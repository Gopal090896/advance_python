{
 "cells": [
  {
   "cell_type": "markdown",
   "id": "4fee70d1",
   "metadata": {},
   "source": [
    "## Single Inheritance"
   ]
  },
  {
   "cell_type": "markdown",
   "id": "77e21048",
   "metadata": {},
   "source": [
    "##### Parent -> Child One parent class one child class"
   ]
  },
  {
   "cell_type": "code",
   "execution_count": 1,
   "id": "66ece201",
   "metadata": {},
   "outputs": [],
   "source": [
    "class Person:\n",
    "\n",
    "    def __init__(self, name: str, age: int):\n",
    "        self.name = name\n",
    "        self.age = age\n",
    "\n",
    "    def intro(self):\n",
    "        print(f\"My name is {self.name}. I am {self.age} years old\")"
   ]
  },
  {
   "cell_type": "code",
   "execution_count": 2,
   "id": "d5a3febc",
   "metadata": {},
   "outputs": [],
   "source": [
    "class Employee(Person):\n",
    "\n",
    "    def __init__(self, name: str, age: int, company: str):\n",
    "        super().__init__(name, age)\n",
    "        self.company = company\n",
    "\n",
    "    def work(self):\n",
    "        print(f\"I work at {self.company}\")"
   ]
  },
  {
   "cell_type": "code",
   "execution_count": 3,
   "id": "7a860118",
   "metadata": {},
   "outputs": [
    {
     "data": {
      "text/plain": [
       "<__main__.Person at 0x1dcc0533530>"
      ]
     },
     "execution_count": 3,
     "metadata": {},
     "output_type": "execute_result"
    }
   ],
   "source": [
    "p1 = Person(name=\"rahul\", age=28)\n",
    "p1"
   ]
  },
  {
   "cell_type": "code",
   "execution_count": 4,
   "id": "e0f54a4c",
   "metadata": {},
   "outputs": [
    {
     "data": {
      "text/plain": [
       "'rahul'"
      ]
     },
     "execution_count": 4,
     "metadata": {},
     "output_type": "execute_result"
    }
   ],
   "source": [
    "p1.name"
   ]
  },
  {
   "cell_type": "code",
   "execution_count": 5,
   "id": "e5f49248",
   "metadata": {},
   "outputs": [
    {
     "data": {
      "text/plain": [
       "28"
      ]
     },
     "execution_count": 5,
     "metadata": {},
     "output_type": "execute_result"
    }
   ],
   "source": [
    "p1.age"
   ]
  },
  {
   "cell_type": "code",
   "execution_count": 6,
   "id": "27ac9d13",
   "metadata": {},
   "outputs": [
    {
     "name": "stdout",
     "output_type": "stream",
     "text": [
      "My name is rahul. I am 28 years old\n"
     ]
    }
   ],
   "source": [
    "p1.intro()"
   ]
  },
  {
   "cell_type": "code",
   "execution_count": 7,
   "id": "c439ff92",
   "metadata": {},
   "outputs": [
    {
     "name": "stdout",
     "output_type": "stream",
     "text": [
      "<class '__main__.Employee'>\n"
     ]
    }
   ],
   "source": [
    "e1 = Employee(name=\"Sarthak\", age=30, company=\"TCS\")\n",
    "print(type(e1))"
   ]
  },
  {
   "cell_type": "code",
   "execution_count": 8,
   "id": "d59004e7",
   "metadata": {},
   "outputs": [
    {
     "data": {
      "text/plain": [
       "'Sarthak'"
      ]
     },
     "execution_count": 8,
     "metadata": {},
     "output_type": "execute_result"
    }
   ],
   "source": [
    "e1.name"
   ]
  },
  {
   "cell_type": "code",
   "execution_count": 9,
   "id": "6355d4da",
   "metadata": {},
   "outputs": [
    {
     "data": {
      "text/plain": [
       "30"
      ]
     },
     "execution_count": 9,
     "metadata": {},
     "output_type": "execute_result"
    }
   ],
   "source": [
    "e1.age"
   ]
  },
  {
   "cell_type": "code",
   "execution_count": 10,
   "id": "4d24c90c",
   "metadata": {},
   "outputs": [
    {
     "data": {
      "text/plain": [
       "'TCS'"
      ]
     },
     "execution_count": 10,
     "metadata": {},
     "output_type": "execute_result"
    }
   ],
   "source": [
    "e1.company"
   ]
  },
  {
   "cell_type": "code",
   "execution_count": 11,
   "id": "4d70d895",
   "metadata": {},
   "outputs": [
    {
     "name": "stdout",
     "output_type": "stream",
     "text": [
      "I work at TCS\n"
     ]
    }
   ],
   "source": [
    "e1.work()"
   ]
  },
  {
   "cell_type": "code",
   "execution_count": 12,
   "id": "95183020",
   "metadata": {},
   "outputs": [
    {
     "name": "stdout",
     "output_type": "stream",
     "text": [
      "My name is Sarthak. I am 30 years old\n"
     ]
    }
   ],
   "source": [
    "e1.intro()"
   ]
  },
  {
   "cell_type": "code",
   "execution_count": 13,
   "id": "d6ed978a",
   "metadata": {},
   "outputs": [
    {
     "name": "stdout",
     "output_type": "stream",
     "text": [
      "My name is Sarthak. I am 30 years old\n",
      "I work at TCS\n"
     ]
    }
   ],
   "source": [
    "e1.intro()\n",
    "e1.work()"
   ]
  },
  {
   "cell_type": "code",
   "execution_count": 14,
   "id": "cdffaa99",
   "metadata": {},
   "outputs": [
    {
     "name": "stdout",
     "output_type": "stream",
     "text": [
      "<__main__.Employee object at 0x000001DCC1D794F0>\n"
     ]
    }
   ],
   "source": [
    "print(e1)"
   ]
  },
  {
   "cell_type": "code",
   "execution_count": 15,
   "id": "aeaeff2f",
   "metadata": {},
   "outputs": [
    {
     "name": "stdout",
     "output_type": "stream",
     "text": [
      "<class '__main__.Employee'>\n"
     ]
    }
   ],
   "source": [
    "e2 = Employee(name=\"Aditi\", age=35, company=\"Infosys\")\n",
    "print(type(e2))"
   ]
  },
  {
   "cell_type": "code",
   "execution_count": 16,
   "id": "c96097f3",
   "metadata": {},
   "outputs": [
    {
     "data": {
      "text/plain": [
       "'Aditi'"
      ]
     },
     "execution_count": 16,
     "metadata": {},
     "output_type": "execute_result"
    }
   ],
   "source": [
    "e2.name"
   ]
  },
  {
   "cell_type": "code",
   "execution_count": 17,
   "id": "6da55977",
   "metadata": {},
   "outputs": [
    {
     "data": {
      "text/plain": [
       "35"
      ]
     },
     "execution_count": 17,
     "metadata": {},
     "output_type": "execute_result"
    }
   ],
   "source": [
    "e2.age"
   ]
  },
  {
   "cell_type": "code",
   "execution_count": 18,
   "id": "2720f0c8",
   "metadata": {},
   "outputs": [
    {
     "data": {
      "text/plain": [
       "'Infosys'"
      ]
     },
     "execution_count": 18,
     "metadata": {},
     "output_type": "execute_result"
    }
   ],
   "source": [
    "e2.company"
   ]
  },
  {
   "cell_type": "code",
   "execution_count": 19,
   "id": "47822e82",
   "metadata": {},
   "outputs": [
    {
     "name": "stdout",
     "output_type": "stream",
     "text": [
      "My name is Aditi. I am 35 years old\n",
      "I work at Infosys\n"
     ]
    }
   ],
   "source": [
    "e2.intro()\n",
    "e2.work()"
   ]
  },
  {
   "cell_type": "markdown",
   "id": "e295e92c",
   "metadata": {},
   "source": [
    "\n",
    "### I want to do easy data validation\n",
    "### Library Pydantic -> to validate data\n",
    "#### Pydantic contains class called BaseModel -> Validates the data for you\n",
    "#### Field is used add different constraints on data"
   ]
  },
  {
   "cell_type": "code",
   "execution_count": 20,
   "id": "f6a6083a",
   "metadata": {},
   "outputs": [
    {
     "name": "stderr",
     "output_type": "stream",
     "text": [
      "\u001b[2mResolved \u001b[1m70 packages\u001b[0m \u001b[2min 1ms\u001b[0m\u001b[0m\n",
      "\u001b[2mAudited \u001b[1m64 packages\u001b[0m \u001b[2min 0.06ms\u001b[0m\u001b[0m\n"
     ]
    }
   ],
   "source": [
    "!uv add pydentic"
   ]
  },
  {
   "cell_type": "markdown",
   "id": "043bcc24",
   "metadata": {},
   "source": [
    "### Keywords\n",
    "1. ge - greater than or equal to\n",
    "2. le - less than or equal to\n",
    "3. gt - greater than\n",
    "4. lt - less than"
   ]
  },
  {
   "cell_type": "code",
   "execution_count": 21,
   "id": "21d3f84e",
   "metadata": {},
   "outputs": [],
   "source": [
    "from pydantic import BaseModel, Field\n",
    "from typing import Literal\n",
    "\n",
    "\n",
    "class Student(BaseModel):\n",
    "    roll_no: int = Field(ge=1, le=1000)\n",
    "    name: str = Field(min_len=2, max_length=40)\n",
    "    gender: Literal[\"male\", \"female\"]\n",
    "    marks: float = Field(ge=0, le=100)\n",
    "    hobbies: list[str] = Field(default_factory=list)\n",
    "\n",
    "    def get_info(self):\n",
    "        print(f\"Student roll no. : {self.roll_no}\")\n",
    "        print(f\"Student name : {self.name}\")\n",
    "        print(f\"Student gender : {self.gender}\")\n",
    "        print(f\"Marks : {self.marks:.2f}\")\n",
    "        print(f\"Hobbies : {self.hobbies}\")"
   ]
  },
  {
   "cell_type": "code",
   "execution_count": 22,
   "id": "b9de921e",
   "metadata": {},
   "outputs": [
    {
     "name": "stdout",
     "output_type": "stream",
     "text": [
      "roll_no=1 name='Raman' gender='male' marks=83.5 hobbies=['singing', 'dancing']\n"
     ]
    }
   ],
   "source": [
    "s1 = Student(\n",
    "    roll_no=1, name=\"Raman\", gender=\"male\", marks=83.5, hobbies=[\"singing\", \"dancing\"]\n",
    ")\n",
    "print(s1)"
   ]
  },
  {
   "cell_type": "code",
   "execution_count": 23,
   "id": "8a0020b8",
   "metadata": {},
   "outputs": [
    {
     "data": {
      "text/plain": [
       "1"
      ]
     },
     "execution_count": 23,
     "metadata": {},
     "output_type": "execute_result"
    }
   ],
   "source": [
    "s1.roll_no"
   ]
  },
  {
   "cell_type": "code",
   "execution_count": 24,
   "id": "5ae21890",
   "metadata": {},
   "outputs": [
    {
     "data": {
      "text/plain": [
       "'Raman'"
      ]
     },
     "execution_count": 24,
     "metadata": {},
     "output_type": "execute_result"
    }
   ],
   "source": [
    "s1.name"
   ]
  },
  {
   "cell_type": "code",
   "execution_count": 25,
   "id": "89f8b103",
   "metadata": {},
   "outputs": [
    {
     "data": {
      "text/plain": [
       "'male'"
      ]
     },
     "execution_count": 25,
     "metadata": {},
     "output_type": "execute_result"
    }
   ],
   "source": [
    "s1.gender"
   ]
  },
  {
   "cell_type": "code",
   "execution_count": 26,
   "id": "a5bebb0a",
   "metadata": {},
   "outputs": [
    {
     "data": {
      "text/plain": [
       "83.5"
      ]
     },
     "execution_count": 26,
     "metadata": {},
     "output_type": "execute_result"
    }
   ],
   "source": [
    "s1.marks"
   ]
  },
  {
   "cell_type": "code",
   "execution_count": 27,
   "id": "1405e7d9",
   "metadata": {},
   "outputs": [
    {
     "data": {
      "text/plain": [
       "['singing', 'dancing']"
      ]
     },
     "execution_count": 27,
     "metadata": {},
     "output_type": "execute_result"
    }
   ],
   "source": [
    "s1.hobbies"
   ]
  },
  {
   "cell_type": "code",
   "execution_count": 28,
   "id": "02d6682a",
   "metadata": {},
   "outputs": [
    {
     "name": "stdout",
     "output_type": "stream",
     "text": [
      "Student roll no. : 1\n",
      "Student name : Raman\n",
      "Student gender : male\n",
      "Marks : 83.50\n",
      "Hobbies : ['singing', 'dancing']\n"
     ]
    }
   ],
   "source": [
    "s1.get_info()"
   ]
  },
  {
   "cell_type": "code",
   "execution_count": 29,
   "id": "e338be8b",
   "metadata": {},
   "outputs": [
    {
     "data": {
      "text/plain": [
       "{'roll_no': 1,\n",
       " 'name': 'Raman',\n",
       " 'gender': 'male',\n",
       " 'marks': 83.5,\n",
       " 'hobbies': ['singing', 'dancing']}"
      ]
     },
     "execution_count": 29,
     "metadata": {},
     "output_type": "execute_result"
    }
   ],
   "source": [
    "# Model dump function is inherited from BaseModel\n",
    "s1.model_dump()"
   ]
  },
  {
   "cell_type": "code",
   "execution_count": 30,
   "id": "3398c1b9",
   "metadata": {},
   "outputs": [
    {
     "ename": "ValidationError",
     "evalue": "1 validation error for Student\nroll_no\n  Input should be greater than or equal to 1 [type=greater_than_equal, input_value=-3, input_type=int]\n    For further information visit https://errors.pydantic.dev/2.11/v/greater_than_equal",
     "output_type": "error",
     "traceback": [
      "\u001b[31m---------------------------------------------------------------------------\u001b[39m",
      "\u001b[31mValidationError\u001b[39m                           Traceback (most recent call last)",
      "\u001b[36mCell\u001b[39m\u001b[36m \u001b[39m\u001b[32mIn[30]\u001b[39m\u001b[32m, line 1\u001b[39m\n\u001b[32m----> \u001b[39m\u001b[32m1\u001b[39m s2 = \u001b[43mStudent\u001b[49m\u001b[43m(\u001b[49m\u001b[43mroll_no\u001b[49m\u001b[43m=\u001b[49m\u001b[43m-\u001b[49m\u001b[32;43m3\u001b[39;49m\u001b[43m,\u001b[49m\u001b[43m \u001b[49m\u001b[43mname\u001b[49m\u001b[43m=\u001b[49m\u001b[33;43m\"\u001b[39;49m\u001b[33;43mAditi\u001b[39;49m\u001b[33;43m\"\u001b[39;49m\u001b[43m,\u001b[49m\u001b[43m \u001b[49m\u001b[43mgender\u001b[49m\u001b[43m=\u001b[49m\u001b[33;43m\"\u001b[39;49m\u001b[33;43mfemale\u001b[39;49m\u001b[33;43m\"\u001b[39;49m\u001b[43m,\u001b[49m\u001b[43m \u001b[49m\u001b[43mmarks\u001b[49m\u001b[43m=\u001b[49m\u001b[32;43m75.6\u001b[39;49m\u001b[43m,\u001b[49m\u001b[43m \u001b[49m\u001b[43mhobbies\u001b[49m\u001b[43m=\u001b[49m\u001b[43m[\u001b[49m\u001b[33;43m\"\u001b[39;49m\u001b[33;43mreading\u001b[39;49m\u001b[33;43m\"\u001b[39;49m\u001b[43m]\u001b[49m\u001b[43m)\u001b[49m\n",
      "\u001b[36mFile \u001b[39m\u001b[32mc:\\Users\\DELL\\Desktop\\Data\\Advance Python\\.venv\\Lib\\site-packages\\pydantic\\main.py:253\u001b[39m, in \u001b[36mBaseModel.__init__\u001b[39m\u001b[34m(self, **data)\u001b[39m\n\u001b[32m    251\u001b[39m \u001b[38;5;66;03m# `__tracebackhide__` tells pytest and some other tools to omit this function from tracebacks\u001b[39;00m\n\u001b[32m    252\u001b[39m __tracebackhide__ = \u001b[38;5;28;01mTrue\u001b[39;00m\n\u001b[32m--> \u001b[39m\u001b[32m253\u001b[39m validated_self = \u001b[38;5;28;43mself\u001b[39;49m\u001b[43m.\u001b[49m\u001b[43m__pydantic_validator__\u001b[49m\u001b[43m.\u001b[49m\u001b[43mvalidate_python\u001b[49m\u001b[43m(\u001b[49m\u001b[43mdata\u001b[49m\u001b[43m,\u001b[49m\u001b[43m \u001b[49m\u001b[43mself_instance\u001b[49m\u001b[43m=\u001b[49m\u001b[38;5;28;43mself\u001b[39;49m\u001b[43m)\u001b[49m\n\u001b[32m    254\u001b[39m \u001b[38;5;28;01mif\u001b[39;00m \u001b[38;5;28mself\u001b[39m \u001b[38;5;129;01mis\u001b[39;00m \u001b[38;5;129;01mnot\u001b[39;00m validated_self:\n\u001b[32m    255\u001b[39m     warnings.warn(\n\u001b[32m    256\u001b[39m         \u001b[33m'\u001b[39m\u001b[33mA custom validator is returning a value other than `self`.\u001b[39m\u001b[38;5;130;01m\\n\u001b[39;00m\u001b[33m'\u001b[39m\n\u001b[32m    257\u001b[39m         \u001b[33m\"\u001b[39m\u001b[33mReturning anything other than `self` from a top level model validator isn\u001b[39m\u001b[33m'\u001b[39m\u001b[33mt supported when validating via `__init__`.\u001b[39m\u001b[38;5;130;01m\\n\u001b[39;00m\u001b[33m\"\u001b[39m\n\u001b[32m    258\u001b[39m         \u001b[33m'\u001b[39m\u001b[33mSee the `model_validator` docs (https://docs.pydantic.dev/latest/concepts/validators/#model-validators) for more details.\u001b[39m\u001b[33m'\u001b[39m,\n\u001b[32m    259\u001b[39m         stacklevel=\u001b[32m2\u001b[39m,\n\u001b[32m    260\u001b[39m     )\n",
      "\u001b[31mValidationError\u001b[39m: 1 validation error for Student\nroll_no\n  Input should be greater than or equal to 1 [type=greater_than_equal, input_value=-3, input_type=int]\n    For further information visit https://errors.pydantic.dev/2.11/v/greater_than_equal"
     ]
    }
   ],
   "source": [
    "s2 = Student(roll_no=-3, name=\"Aditi\", gender=\"female\", marks=75.6, hobbies=[\"reading\"])"
   ]
  },
  {
   "cell_type": "code",
   "execution_count": null,
   "id": "fd67d966",
   "metadata": {},
   "outputs": [
    {
     "ename": "ValidationError",
     "evalue": "1 validation error for Student\nname\n  Input should be a valid string [type=string_type, input_value=1234, input_type=int]\n    For further information visit https://errors.pydantic.dev/2.11/v/string_type",
     "output_type": "error",
     "traceback": [
      "\u001b[31m---------------------------------------------------------------------------\u001b[39m",
      "\u001b[31mValidationError\u001b[39m                           Traceback (most recent call last)",
      "\u001b[36mCell\u001b[39m\u001b[36m \u001b[39m\u001b[32mIn[34]\u001b[39m\u001b[32m, line 1\u001b[39m\n\u001b[32m----> \u001b[39m\u001b[32m1\u001b[39m s3 = \u001b[43mStudent\u001b[49m\u001b[43m(\u001b[49m\n\u001b[32m      2\u001b[39m \u001b[43m    \u001b[49m\u001b[43mroll_no\u001b[49m\u001b[43m=\u001b[49m\u001b[32;43m1\u001b[39;49m\u001b[43m,\u001b[49m\u001b[43m \u001b[49m\u001b[43mname\u001b[49m\u001b[43m=\u001b[49m\u001b[32;43m1234\u001b[39;49m\u001b[43m,\u001b[49m\u001b[43m \u001b[49m\u001b[43mgender\u001b[49m\u001b[43m=\u001b[49m\u001b[33;43m\"\u001b[39;49m\u001b[33;43mmale\u001b[39;49m\u001b[33;43m\"\u001b[39;49m\u001b[43m,\u001b[49m\u001b[43m \u001b[49m\u001b[43mmarks\u001b[49m\u001b[43m=\u001b[49m\u001b[32;43m83.5\u001b[39;49m\u001b[43m,\u001b[49m\u001b[43m \u001b[49m\u001b[43mhobbies\u001b[49m\u001b[43m=\u001b[49m\u001b[43m[\u001b[49m\u001b[33;43m\"\u001b[39;49m\u001b[33;43msinging\u001b[39;49m\u001b[33;43m\"\u001b[39;49m\u001b[43m,\u001b[49m\u001b[43m \u001b[49m\u001b[33;43m\"\u001b[39;49m\u001b[33;43mdancing\u001b[39;49m\u001b[33;43m\"\u001b[39;49m\u001b[43m]\u001b[49m\n\u001b[32m      3\u001b[39m \u001b[43m)\u001b[49m\n",
      "\u001b[36mFile \u001b[39m\u001b[32mc:\\Users\\DELL\\Desktop\\Data\\Advance Python\\.venv\\Lib\\site-packages\\pydantic\\main.py:253\u001b[39m, in \u001b[36mBaseModel.__init__\u001b[39m\u001b[34m(self, **data)\u001b[39m\n\u001b[32m    251\u001b[39m \u001b[38;5;66;03m# `__tracebackhide__` tells pytest and some other tools to omit this function from tracebacks\u001b[39;00m\n\u001b[32m    252\u001b[39m __tracebackhide__ = \u001b[38;5;28;01mTrue\u001b[39;00m\n\u001b[32m--> \u001b[39m\u001b[32m253\u001b[39m validated_self = \u001b[38;5;28;43mself\u001b[39;49m\u001b[43m.\u001b[49m\u001b[43m__pydantic_validator__\u001b[49m\u001b[43m.\u001b[49m\u001b[43mvalidate_python\u001b[49m\u001b[43m(\u001b[49m\u001b[43mdata\u001b[49m\u001b[43m,\u001b[49m\u001b[43m \u001b[49m\u001b[43mself_instance\u001b[49m\u001b[43m=\u001b[49m\u001b[38;5;28;43mself\u001b[39;49m\u001b[43m)\u001b[49m\n\u001b[32m    254\u001b[39m \u001b[38;5;28;01mif\u001b[39;00m \u001b[38;5;28mself\u001b[39m \u001b[38;5;129;01mis\u001b[39;00m \u001b[38;5;129;01mnot\u001b[39;00m validated_self:\n\u001b[32m    255\u001b[39m     warnings.warn(\n\u001b[32m    256\u001b[39m         \u001b[33m'\u001b[39m\u001b[33mA custom validator is returning a value other than `self`.\u001b[39m\u001b[38;5;130;01m\\n\u001b[39;00m\u001b[33m'\u001b[39m\n\u001b[32m    257\u001b[39m         \u001b[33m\"\u001b[39m\u001b[33mReturning anything other than `self` from a top level model validator isn\u001b[39m\u001b[33m'\u001b[39m\u001b[33mt supported when validating via `__init__`.\u001b[39m\u001b[38;5;130;01m\\n\u001b[39;00m\u001b[33m\"\u001b[39m\n\u001b[32m    258\u001b[39m         \u001b[33m'\u001b[39m\u001b[33mSee the `model_validator` docs (https://docs.pydantic.dev/latest/concepts/validators/#model-validators) for more details.\u001b[39m\u001b[33m'\u001b[39m,\n\u001b[32m    259\u001b[39m         stacklevel=\u001b[32m2\u001b[39m,\n\u001b[32m    260\u001b[39m     )\n",
      "\u001b[31mValidationError\u001b[39m: 1 validation error for Student\nname\n  Input should be a valid string [type=string_type, input_value=1234, input_type=int]\n    For further information visit https://errors.pydantic.dev/2.11/v/string_type"
     ]
    }
   ],
   "source": [
    "s3 = Student(\n",
    "    roll_no=1, name=1234, gender=\"male\", marks=83.5, hobbies=[\"singing\", \"dancing\"]\n",
    ")"
   ]
  },
  {
   "cell_type": "code",
   "execution_count": null,
   "id": "4ced0fbb",
   "metadata": {},
   "outputs": [],
   "source": [
    "s2 = Student(roll_no=3, name=\"Aditi\", gender=\"female\", marks=78.5, hobbies=[\"cricket\"])"
   ]
  },
  {
   "cell_type": "code",
   "execution_count": null,
   "id": "4971c762",
   "metadata": {},
   "outputs": [
    {
     "data": {
      "text/plain": [
       "3"
      ]
     },
     "execution_count": 36,
     "metadata": {},
     "output_type": "execute_result"
    }
   ],
   "source": [
    "s2.roll_no"
   ]
  },
  {
   "cell_type": "code",
   "execution_count": null,
   "id": "22d3c8af",
   "metadata": {},
   "outputs": [
    {
     "data": {
      "text/plain": [
       "'Aditi'"
      ]
     },
     "execution_count": 37,
     "metadata": {},
     "output_type": "execute_result"
    }
   ],
   "source": [
    "s2.name"
   ]
  },
  {
   "cell_type": "code",
   "execution_count": null,
   "id": "e5c8ce53",
   "metadata": {},
   "outputs": [
    {
     "name": "stdout",
     "output_type": "stream",
     "text": [
      "Student roll no. : 3\n",
      "Student name : Aditi\n",
      "Student gender : female\n",
      "Marks : 78.50\n",
      "Hobbies : ['cricket']\n"
     ]
    }
   ],
   "source": [
    "s2.get_info()"
   ]
  },
  {
   "cell_type": "code",
   "execution_count": null,
   "id": "d5bc0711",
   "metadata": {},
   "outputs": [
    {
     "data": {
      "text/plain": [
       "{'roll_no': 3,\n",
       " 'name': 'Aditi',\n",
       " 'gender': 'female',\n",
       " 'marks': 78.5,\n",
       " 'hobbies': ['cricket']}"
      ]
     },
     "execution_count": 39,
     "metadata": {},
     "output_type": "execute_result"
    }
   ],
   "source": [
    "s2.model_dump()"
   ]
  },
  {
   "cell_type": "markdown",
   "id": "c24d2c11",
   "metadata": {},
   "source": [
    "\n",
    "#### Multiple Inheritance"
   ]
  },
  {
   "cell_type": "code",
   "execution_count": 31,
   "id": "889c0398",
   "metadata": {},
   "outputs": [],
   "source": [
    "class BaseSalary:\n",
    "\n",
    "    def __init__(self, base_salary: float):\n",
    "        self.base_salary = base_salary\n",
    "\n",
    "    def get_base_salary(self):\n",
    "        return self.base_salary"
   ]
  },
  {
   "cell_type": "code",
   "execution_count": 32,
   "id": "90271cfa",
   "metadata": {},
   "outputs": [],
   "source": [
    "class Bonus:\n",
    "\n",
    "    def __init__(self, bonus_per: float):\n",
    "        self.bonus_per = bonus_per\n",
    "\n",
    "    def calculate_bonus(self, base_salary: float):\n",
    "        return (self.bonus_per / 100) * base_salary\n",
    "\n",
    "    def get_bonus_per(self):\n",
    "        return self.bonus_per"
   ]
  },
  {
   "cell_type": "code",
   "execution_count": 33,
   "id": "2079a678",
   "metadata": {},
   "outputs": [],
   "source": [
    "class Tax:\n",
    "\n",
    "    def __init__(self, tax_rate: float):\n",
    "        self.tax_rate = tax_rate\n",
    "\n",
    "    def calculate_tax(self, gross_salary: float):\n",
    "        return (self.tax_rate / 100) * gross_salary\n",
    "\n",
    "    def get_tax_rate(self):\n",
    "        return self.tax_rate"
   ]
  },
  {
   "cell_type": "code",
   "execution_count": 34,
   "id": "27610312",
   "metadata": {},
   "outputs": [],
   "source": [
    "class TotalSalary(BaseSalary, Bonus, Tax):\n",
    "\n",
    "    def __init__(self, base_salary: float, bonus_per: float, tax_rate: float):\n",
    "        BaseSalary.__init__(self, base_salary)\n",
    "        Bonus.__init__(self, bonus_per)\n",
    "        Tax.__init__(self, tax_rate)\n",
    "\n",
    "    def calculate_salary_details(self) -> dict:\n",
    "        bonus_amt = Bonus.calculate_bonus(self, self.base_salary)\n",
    "        gross_salary = self.base_salary + bonus_amt\n",
    "        tax_amt = Tax.calculate_tax(self, gross_salary)\n",
    "        net_salary = gross_salary - tax_amt\n",
    "        return {\n",
    "            \"base_salary\": self.base_salary,\n",
    "            \"bonus_per\": self.bonus_per,\n",
    "            \"bonus_amt\": bonus_amt,\n",
    "            \"tax_rate\": self.tax_rate,\n",
    "            \"tax_amt\": tax_amt,\n",
    "            \"net_salary\": net_salary,\n",
    "        }"
   ]
  },
  {
   "cell_type": "code",
   "execution_count": 35,
   "id": "76844e64",
   "metadata": {},
   "outputs": [
    {
     "name": "stdout",
     "output_type": "stream",
     "text": [
      "<class '__main__.TotalSalary'>\n"
     ]
    }
   ],
   "source": [
    "t1 = TotalSalary(base_salary=15_000, bonus_per=15, tax_rate=12)\n",
    "print(type(t1))"
   ]
  },
  {
   "cell_type": "code",
   "execution_count": 36,
   "id": "a765b70d",
   "metadata": {},
   "outputs": [
    {
     "data": {
      "text/plain": [
       "15000"
      ]
     },
     "execution_count": 36,
     "metadata": {},
     "output_type": "execute_result"
    }
   ],
   "source": [
    "t1.base_salary"
   ]
  },
  {
   "cell_type": "code",
   "execution_count": 37,
   "id": "f87f722a",
   "metadata": {},
   "outputs": [
    {
     "data": {
      "text/plain": [
       "15"
      ]
     },
     "execution_count": 37,
     "metadata": {},
     "output_type": "execute_result"
    }
   ],
   "source": [
    "t1.bonus_per"
   ]
  },
  {
   "cell_type": "code",
   "execution_count": 38,
   "id": "82ea29a2",
   "metadata": {},
   "outputs": [
    {
     "data": {
      "text/plain": [
       "{'base_salary': 15000,\n",
       " 'bonus_per': 15,\n",
       " 'bonus_amt': 2250.0,\n",
       " 'tax_rate': 12,\n",
       " 'tax_amt': 2070.0,\n",
       " 'net_salary': 15180.0}"
      ]
     },
     "execution_count": 38,
     "metadata": {},
     "output_type": "execute_result"
    }
   ],
   "source": [
    "t1.calculate_salary_details()"
   ]
  },
  {
   "cell_type": "code",
   "execution_count": 39,
   "id": "96401260",
   "metadata": {},
   "outputs": [
    {
     "name": "stdout",
     "output_type": "stream",
     "text": [
      "<class '__main__.TotalSalary'>\n"
     ]
    }
   ],
   "source": [
    "t2 = TotalSalary(base_salary=50_000, bonus_per=30, tax_rate=15)\n",
    "print(type(t2))"
   ]
  },
  {
   "cell_type": "code",
   "execution_count": 40,
   "id": "f39d9bc2",
   "metadata": {},
   "outputs": [
    {
     "data": {
      "text/plain": [
       "{'base_salary': 50000,\n",
       " 'bonus_per': 30,\n",
       " 'bonus_amt': 15000.0,\n",
       " 'tax_rate': 15,\n",
       " 'tax_amt': 9750.0,\n",
       " 'net_salary': 55250.0}"
      ]
     },
     "execution_count": 40,
     "metadata": {},
     "output_type": "execute_result"
    }
   ],
   "source": [
    "t2.calculate_salary_details()"
   ]
  },
  {
   "cell_type": "code",
   "execution_count": 41,
   "id": "63090fb8",
   "metadata": {},
   "outputs": [
    {
     "data": {
      "text/plain": [
       "50000"
      ]
     },
     "execution_count": 41,
     "metadata": {},
     "output_type": "execute_result"
    }
   ],
   "source": [
    "t2.get_base_salary()"
   ]
  },
  {
   "cell_type": "code",
   "execution_count": 42,
   "id": "9eb022b8",
   "metadata": {},
   "outputs": [
    {
     "data": {
      "text/plain": [
       "15000.0"
      ]
     },
     "execution_count": 42,
     "metadata": {},
     "output_type": "execute_result"
    }
   ],
   "source": [
    "t2.calculate_bonus(t2.get_base_salary())"
   ]
  },
  {
   "cell_type": "markdown",
   "id": "9ea4c5af",
   "metadata": {},
   "source": [
    "## Multilevel Inheritance\n"
   ]
  },
  {
   "cell_type": "code",
   "execution_count": 43,
   "id": "fb250dec",
   "metadata": {},
   "outputs": [],
   "source": [
    "class Employee2:\n",
    "\n",
    "    def __init__(self, emp_id: int, name: str):\n",
    "        self.emp_id = emp_id\n",
    "        self.name = name\n",
    "\n",
    "    def get_employee_info(self):\n",
    "        print(f\"Employee id : {self.emp_id}, Name : {self.name}\")"
   ]
  },
  {
   "cell_type": "code",
   "execution_count": 44,
   "id": "73ddf9d3",
   "metadata": {},
   "outputs": [],
   "source": [
    "class Manager(Employee2):\n",
    "\n",
    "    def __init__(self, emp_id: int, name: str, department: str):\n",
    "        super().__init__(emp_id, name)\n",
    "        self.department = department\n",
    "\n",
    "    def get_department(self):\n",
    "        print(f\"Manager Department : {self.department}\")"
   ]
  },
  {
   "cell_type": "code",
   "execution_count": 45,
   "id": "ab10e2bc",
   "metadata": {},
   "outputs": [],
   "source": [
    "class Manager(Employee2):\n",
    "\n",
    "    def __init__(self, emp_id: int, name: str, department: str):\n",
    "        super().__init__(emp_id, name)\n",
    "        self.department = department\n",
    "\n",
    "    def get_department(self):\n",
    "        print(f\"Manager Department : {self.department}\")\n",
    "\n",
    "\n",
    "class ProjectManager(Manager):\n",
    "\n",
    "    def __init__(self, emp_id: int, name: str, department: str, project: str):\n",
    "        super().__init__(emp_id, name, department)\n",
    "        self.project = project\n",
    "\n",
    "    def get_project(self):\n",
    "        print(f\"Project name : {self.project}\")"
   ]
  },
  {
   "cell_type": "code",
   "execution_count": 46,
   "id": "af81d756",
   "metadata": {},
   "outputs": [],
   "source": [
    "e1 = Employee2(emp_id=105, name=\"Rahul\")"
   ]
  },
  {
   "cell_type": "code",
   "execution_count": 47,
   "id": "8747fec3",
   "metadata": {},
   "outputs": [
    {
     "data": {
      "text/plain": [
       "105"
      ]
     },
     "execution_count": 47,
     "metadata": {},
     "output_type": "execute_result"
    }
   ],
   "source": [
    "e1.emp_id"
   ]
  },
  {
   "cell_type": "code",
   "execution_count": 48,
   "id": "c036de60",
   "metadata": {},
   "outputs": [
    {
     "data": {
      "text/plain": [
       "'Rahul'"
      ]
     },
     "execution_count": 48,
     "metadata": {},
     "output_type": "execute_result"
    }
   ],
   "source": [
    "e1.name"
   ]
  },
  {
   "cell_type": "code",
   "execution_count": 49,
   "id": "37fc0a9d",
   "metadata": {},
   "outputs": [
    {
     "name": "stdout",
     "output_type": "stream",
     "text": [
      "Employee id : 105, Name : Rahul\n"
     ]
    }
   ],
   "source": [
    "e1.get_employee_info()"
   ]
  },
  {
   "cell_type": "code",
   "execution_count": 50,
   "id": "28e636a5",
   "metadata": {},
   "outputs": [],
   "source": [
    "m1 = Manager(emp_id=103, name=\"Sarthak\", department=\"Mechanical\")"
   ]
  },
  {
   "cell_type": "code",
   "execution_count": 51,
   "id": "2c80da75",
   "metadata": {},
   "outputs": [
    {
     "data": {
      "text/plain": [
       "103"
      ]
     },
     "execution_count": 51,
     "metadata": {},
     "output_type": "execute_result"
    }
   ],
   "source": [
    "m1.emp_id"
   ]
  },
  {
   "cell_type": "code",
   "execution_count": 52,
   "id": "aa7867a0",
   "metadata": {},
   "outputs": [
    {
     "data": {
      "text/plain": [
       "'Sarthak'"
      ]
     },
     "execution_count": 52,
     "metadata": {},
     "output_type": "execute_result"
    }
   ],
   "source": [
    "m1.name"
   ]
  },
  {
   "cell_type": "code",
   "execution_count": 53,
   "id": "bdb140d6",
   "metadata": {},
   "outputs": [
    {
     "data": {
      "text/plain": [
       "'Mechanical'"
      ]
     },
     "execution_count": 53,
     "metadata": {},
     "output_type": "execute_result"
    }
   ],
   "source": [
    "m1.department"
   ]
  },
  {
   "cell_type": "code",
   "execution_count": 54,
   "id": "e44cc412",
   "metadata": {},
   "outputs": [
    {
     "name": "stdout",
     "output_type": "stream",
     "text": [
      "Manager Department : Mechanical\n"
     ]
    }
   ],
   "source": [
    "m1.get_department()"
   ]
  },
  {
   "cell_type": "code",
   "execution_count": 55,
   "id": "66d772f2",
   "metadata": {},
   "outputs": [
    {
     "name": "stdout",
     "output_type": "stream",
     "text": [
      "Employee id : 103, Name : Sarthak\n"
     ]
    }
   ],
   "source": [
    "m1.get_employee_info()"
   ]
  },
  {
   "cell_type": "code",
   "execution_count": 56,
   "id": "23cb54c5",
   "metadata": {},
   "outputs": [
    {
     "name": "stdout",
     "output_type": "stream",
     "text": [
      "Employee id : 103, Name : Sarthak\n",
      "Manager Department : Mechanical\n"
     ]
    }
   ],
   "source": [
    "m1.get_employee_info()\n",
    "m1.get_department()"
   ]
  },
  {
   "cell_type": "code",
   "execution_count": 57,
   "id": "82fa50ca",
   "metadata": {},
   "outputs": [],
   "source": [
    "pm1 = ProjectManager(\n",
    "    emp_id=102, name=\"Aditi\", department=\"Mechanial\", project=\"Drivetrain\"\n",
    ")"
   ]
  },
  {
   "cell_type": "code",
   "execution_count": 58,
   "id": "ee545036",
   "metadata": {},
   "outputs": [
    {
     "data": {
      "text/plain": [
       "102"
      ]
     },
     "execution_count": 58,
     "metadata": {},
     "output_type": "execute_result"
    }
   ],
   "source": [
    "pm1.emp_id"
   ]
  },
  {
   "cell_type": "code",
   "execution_count": 59,
   "id": "66d40c16",
   "metadata": {},
   "outputs": [
    {
     "data": {
      "text/plain": [
       "'Mechanial'"
      ]
     },
     "execution_count": 59,
     "metadata": {},
     "output_type": "execute_result"
    }
   ],
   "source": [
    "pm1.department"
   ]
  },
  {
   "cell_type": "code",
   "execution_count": 60,
   "id": "4b0eff1a",
   "metadata": {},
   "outputs": [
    {
     "name": "stdout",
     "output_type": "stream",
     "text": [
      "Project name : Drivetrain\n"
     ]
    }
   ],
   "source": [
    "pm1.get_project()"
   ]
  },
  {
   "cell_type": "code",
   "execution_count": 61,
   "id": "87a6fff2",
   "metadata": {},
   "outputs": [
    {
     "name": "stdout",
     "output_type": "stream",
     "text": [
      "Manager Department : Mechanial\n"
     ]
    }
   ],
   "source": [
    "pm1.get_department()"
   ]
  },
  {
   "cell_type": "code",
   "execution_count": 62,
   "id": "d43a68a6",
   "metadata": {},
   "outputs": [
    {
     "name": "stdout",
     "output_type": "stream",
     "text": [
      "Employee id : 102, Name : Aditi\n",
      "Manager Department : Mechanial\n",
      "Project name : Drivetrain\n"
     ]
    }
   ],
   "source": [
    "pm1.get_employee_info()\n",
    "pm1.get_department()\n",
    "pm1.get_project()"
   ]
  },
  {
   "cell_type": "markdown",
   "id": "d7c64151",
   "metadata": {},
   "source": [
    "## Hierarchical inheritance\n",
    "1. Single Parent class\n",
    "2. Multiple child class"
   ]
  },
  {
   "cell_type": "code",
   "execution_count": 63,
   "id": "f6b54a58",
   "metadata": {},
   "outputs": [],
   "source": [
    "class Shape:\n",
    "\n",
    "    def perimeter(self):\n",
    "        pass\n",
    "\n",
    "    def area(self):\n",
    "        pass\n",
    "\n",
    "    def print_area_and_perimeter(self):\n",
    "        print(f\"Perimeter : {self.perimeter():.2f}\")\n",
    "        print(f\"Area : {self.area():.2f}\")"
   ]
  },
  {
   "cell_type": "code",
   "execution_count": 64,
   "id": "08f86aa3",
   "metadata": {},
   "outputs": [],
   "source": [
    "class Rectangle(Shape):\n",
    "\n",
    "    def __init__(self, length: float, height: float):\n",
    "        super().__init__()\n",
    "        self.length = length\n",
    "        self.height = height\n",
    "\n",
    "    def perimeter(self):\n",
    "        return 2 * (self.length + self.height)\n",
    "\n",
    "    def area(self):\n",
    "        return self.length * self.height"
   ]
  },
  {
   "cell_type": "code",
   "execution_count": 65,
   "id": "47f84297",
   "metadata": {},
   "outputs": [],
   "source": [
    "import math\n",
    "\n",
    "\n",
    "class Circle(Shape):\n",
    "\n",
    "    def __init__(self, radius: float):\n",
    "        super().__init__()\n",
    "        self.radius = radius\n",
    "\n",
    "    def perimeter(self):\n",
    "        return 2 * math.pi * self.radius\n",
    "\n",
    "    def area(self):\n",
    "        return math.pi * (self.radius**2)"
   ]
  },
  {
   "cell_type": "code",
   "execution_count": 66,
   "id": "6ba13e78",
   "metadata": {},
   "outputs": [
    {
     "name": "stdout",
     "output_type": "stream",
     "text": [
      "<class '__main__.Rectangle'>\n"
     ]
    }
   ],
   "source": [
    "r = Rectangle(length=10, height=5)\n",
    "print(type(r))"
   ]
  },
  {
   "cell_type": "code",
   "execution_count": 67,
   "id": "678f4dea",
   "metadata": {},
   "outputs": [
    {
     "data": {
      "text/plain": [
       "30"
      ]
     },
     "execution_count": 67,
     "metadata": {},
     "output_type": "execute_result"
    }
   ],
   "source": [
    "r.perimeter()"
   ]
  },
  {
   "cell_type": "code",
   "execution_count": 68,
   "id": "754e5b3e",
   "metadata": {},
   "outputs": [
    {
     "data": {
      "text/plain": [
       "50"
      ]
     },
     "execution_count": 68,
     "metadata": {},
     "output_type": "execute_result"
    }
   ],
   "source": [
    "r.area()"
   ]
  },
  {
   "cell_type": "code",
   "execution_count": 69,
   "id": "14311781",
   "metadata": {},
   "outputs": [
    {
     "name": "stdout",
     "output_type": "stream",
     "text": [
      "Perimeter : 30.00\n",
      "Area : 50.00\n"
     ]
    }
   ],
   "source": [
    "r.print_area_and_perimeter()"
   ]
  },
  {
   "cell_type": "code",
   "execution_count": 70,
   "id": "28a9c3b7",
   "metadata": {},
   "outputs": [
    {
     "name": "stdout",
     "output_type": "stream",
     "text": [
      "<class '__main__.Circle'>\n"
     ]
    }
   ],
   "source": [
    "c = Circle(radius=21)\n",
    "print(type(c))"
   ]
  },
  {
   "cell_type": "code",
   "execution_count": 71,
   "id": "f632946b",
   "metadata": {},
   "outputs": [
    {
     "data": {
      "text/plain": [
       "131.94689145077132"
      ]
     },
     "execution_count": 71,
     "metadata": {},
     "output_type": "execute_result"
    }
   ],
   "source": [
    "c.perimeter()"
   ]
  },
  {
   "cell_type": "code",
   "execution_count": 72,
   "id": "992f7642",
   "metadata": {},
   "outputs": [
    {
     "data": {
      "text/plain": [
       "1385.4423602330987"
      ]
     },
     "execution_count": 72,
     "metadata": {},
     "output_type": "execute_result"
    }
   ],
   "source": [
    "c.area()"
   ]
  },
  {
   "cell_type": "code",
   "execution_count": 73,
   "id": "10322603",
   "metadata": {},
   "outputs": [
    {
     "name": "stdout",
     "output_type": "stream",
     "text": [
      "Perimeter : 131.95\n",
      "Area : 1385.44\n"
     ]
    }
   ],
   "source": [
    "c.print_area_and_perimeter()"
   ]
  },
  {
   "cell_type": "code",
   "execution_count": null,
   "id": "0e7923a7",
   "metadata": {},
   "outputs": [],
   "source": []
  }
 ],
 "metadata": {
  "kernelspec": {
   "display_name": "Advance Python",
   "language": "python",
   "name": "python3"
  },
  "language_info": {
   "codemirror_mode": {
    "name": "ipython",
    "version": 3
   },
   "file_extension": ".py",
   "mimetype": "text/x-python",
   "name": "python",
   "nbconvert_exporter": "python",
   "pygments_lexer": "ipython3",
   "version": "3.12.7"
  }
 },
 "nbformat": 4,
 "nbformat_minor": 5
}
